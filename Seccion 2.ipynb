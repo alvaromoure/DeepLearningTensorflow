{
 "cells": [
  {
   "cell_type": "code",
   "execution_count": 1,
   "id": "96824aba-f53d-4200-91b1-e648c08179df",
   "metadata": {},
   "outputs": [],
   "source": [
    "%config Completer.use_jedi = False"
   ]
  },
  {
   "cell_type": "code",
   "execution_count": 3,
   "id": "1569cfef",
   "metadata": {
    "scrolled": true
   },
   "outputs": [],
   "source": [
    "import tensorflow as tf\n",
    "import numpy as np"
   ]
  },
  {
   "cell_type": "code",
   "execution_count": null,
   "id": "ac1c9236-e381-4d89-a01c-236a4c258527",
   "metadata": {},
   "outputs": [],
   "source": [
    "\n",
    "#Tensores Fijos\n",
    "\n",
    "zero_t = tf.zeros([3,4])\n",
    "ones_t = tf.ones([3,4])\n",
    "cte_t = tf.fill([2,3],1999)\n",
    "cte_t\n",
    "\n",
    "#Tensores por tamaño\n",
    "zero_sim = tf.zeros_like(zero_t)\n",
    "zero_sim\n",
    "\n",
    "# Tensores en forma de secuencia\n",
    "sec_t = tf.linspace(start=0.0,stop=1.0,num=5) \n",
    "range_t = tf.range(start=5.0,limit=15.0,delta = 4.0)\n",
    "# Tensor aleatorio\n",
    "rand_norm_t = tf.random.normal([3,4], mean = 0.0,stddev =1.0)\n",
    "tf.Variable(sec_t)"
   ]
  },
  {
   "cell_type": "code",
   "execution_count": 5,
   "id": "41a8e041",
   "metadata": {},
   "outputs": [
    {
     "data": {
      "text/plain": [
       "array([[0.4349866 , 0.3735839 ],\n",
       "       [0.6560384 , 0.28031415]], dtype=float32)"
      ]
     },
     "execution_count": 5,
     "metadata": {},
     "output_type": "execute_result"
    }
   ],
   "source": [
    "session = tf.Session()\n",
    "x = tf.placeholder(tf.float32,shape=[2,2])\n",
    "y = tf.identity(x) # Evita bucles infinitos\n",
    "x_vals = np.random.rand(2,2)\n",
    "session.run(y,feed_dict={x:x_vals}) #keys = variables , values = placeholders\n"
   ]
  },
  {
   "cell_type": "code",
   "execution_count": null,
   "id": "220a3e59",
   "metadata": {},
   "outputs": [],
   "source": [
    "#"
   ]
  }
 ],
 "metadata": {
  "kernelspec": {
   "display_name": "Python 3",
   "language": "python",
   "name": "python3"
  },
  "language_info": {
   "codemirror_mode": {
    "name": "ipython",
    "version": 3
   },
   "file_extension": ".py",
   "mimetype": "text/x-python",
   "name": "python",
   "nbconvert_exporter": "python",
   "pygments_lexer": "ipython3",
   "version": "3.7.10"
  }
 },
 "nbformat": 4,
 "nbformat_minor": 5
}
